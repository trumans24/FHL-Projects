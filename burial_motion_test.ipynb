{
 "cells": [
  {
   "cell_type": "code",
   "execution_count": 1,
   "metadata": {},
   "outputs": [
    {
     "name": "stdout",
     "output_type": "stream",
     "text": [
      "SDK_VERSION: 1.13.30\n"
     ]
    }
   ],
   "source": [
    "import time\n",
    "import numpy as np\n",
    "from xarm.wrapper import XArmAPI\n",
    "from samplers import PosSampler, FTSampler, Experiment\n"
   ]
  },
  {
   "cell_type": "code",
   "execution_count": 2,
   "metadata": {},
   "outputs": [
    {
     "name": "stdout",
     "output_type": "stream",
     "text": [
      "ROBOT_IP: 192.168.1.217, VERSION: v2.3.0, PROTOCOL: V1, DETAIL: 7,7,XS1304,AC1303,v2.3.0, TYPE1300: [1, 1]\n",
      "change protocol identifier to 3\n"
     ]
    }
   ],
   "source": [
    "arm = XArmAPI('192.168.1.217')\n",
    "\n",
    "ft_sampler = FTSampler('force', 'COM5')\n",
    "arm_sampler = PosSampler('position', arm)"
   ]
  },
  {
   "cell_type": "code",
   "execution_count": 3,
   "metadata": {},
   "outputs": [
    {
     "name": "stdout",
     "output_type": "stream",
     "text": [
      "Opened serial port COM5\n",
      "Trying to setup the sensor.\n",
      "Timestep: 0.0011132812500000001\n",
      "Frame synced\n",
      "Collecting...\n",
      "CRC mismatch received\n",
      "Frame synced\n",
      "CRC mismatch received\n",
      "Frame synced\n",
      "Collected for 10.000362396240234 seconds.\n"
     ]
    },
    {
     "data": {
      "text/plain": [
       "True"
      ]
     },
     "execution_count": 3,
     "metadata": {},
     "output_type": "execute_result"
    }
   ],
   "source": [
    "experiment = Experiment([arm_sampler, ft_sampler])\n",
    "experiment.connect_sensors()"
   ]
  },
  {
   "cell_type": "markdown",
   "metadata": {},
   "source": [
    "# Move the robot to the position for removal of the model"
   ]
  },
  {
   "cell_type": "code",
   "execution_count": 4,
   "metadata": {},
   "outputs": [
    {
     "data": {
      "text/plain": [
       "0"
      ]
     },
     "execution_count": 4,
     "metadata": {},
     "output_type": "execute_result"
    }
   ],
   "source": [
    "# _, remove_model_angles = arm.get_servo_angle()\n",
    "arm.set_state(0)\n",
    "remove_model_angles = [-2.051303, -31.667377, -3.142616, 66.196163, -0.287739, 97.877234, -3.741758]\n",
    "arm.set_servo_angle(angle=remove_model_angles)"
   ]
  },
  {
   "cell_type": "markdown",
   "metadata": {},
   "source": [
    "# Move to preburial position"
   ]
  },
  {
   "cell_type": "code",
   "execution_count": 5,
   "metadata": {},
   "outputs": [
    {
     "data": {
      "text/plain": [
       "0"
      ]
     },
     "execution_count": 5,
     "metadata": {},
     "output_type": "execute_result"
    }
   ],
   "source": [
    "# _, (x, y, z, roll, pitch, yaw) = arm.get_position()\n",
    "x, y, z, roll, pitch, yaw = (216.547531, -31.204264, 220, 180, 0.0, 0.0)\n",
    "arm.set_position(x, y, z, roll=180, pitch=0, yaw=0)"
   ]
  },
  {
   "cell_type": "markdown",
   "metadata": {},
   "source": [
    "# Tilt to the desired angle"
   ]
  },
  {
   "cell_type": "code",
   "execution_count": 6,
   "metadata": {},
   "outputs": [
    {
     "data": {
      "text/plain": [
       "0"
      ]
     },
     "execution_count": 6,
     "metadata": {},
     "output_type": "execute_result"
    }
   ],
   "source": [
    "burial_angle = 15\n",
    "arm.set_position(x, y, z, roll=180, pitch=burial_angle, yaw=0)"
   ]
  },
  {
   "cell_type": "markdown",
   "metadata": {},
   "source": [
    "# Manually lower to just above the Sand from Ufactory"
   ]
  },
  {
   "cell_type": "code",
   "execution_count": 105,
   "metadata": {},
   "outputs": [
    {
     "data": {
      "text/plain": [
       "0"
      ]
     },
     "execution_count": 105,
     "metadata": {},
     "output_type": "execute_result"
    }
   ],
   "source": [
    "# distance_tip_to_sand = 74\n",
    "# distance_tip_to_sand -= 5\n",
    "# arm.set_position(x, y, z-distance_tip_to_sand, roll=180, pitch=burial_angle, yaw=0)"
   ]
  },
  {
   "cell_type": "markdown",
   "metadata": {},
   "source": [
    "# Set Model Name and Burial Distance"
   ]
  },
  {
   "cell_type": "code",
   "execution_count": 7,
   "metadata": {},
   "outputs": [],
   "source": [
    "################ Set model name and travel distance (in mm) ##################\n",
    "model_name = 'test'\n",
    "distance = 40  # distance in milimeters\n"
   ]
  },
  {
   "cell_type": "markdown",
   "metadata": {},
   "source": [
    "# Begin Test"
   ]
  },
  {
   "cell_type": "code",
   "execution_count": 8,
   "metadata": {},
   "outputs": [
    {
     "data": {
      "text/plain": [
       "0"
      ]
     },
     "execution_count": 8,
     "metadata": {},
     "output_type": "execute_result"
    }
   ],
   "source": [
    "#################### DO NOT TOUCH ####################################\n",
    "arm.set_state(0)\n",
    "parameters = {\n",
    "    'angle': burial_angle,\n",
    "    'model': model_name,\n",
    "    'distance': distance,\n",
    "}\n",
    "a = 3\n",
    "forward = 1\n",
    "for _ in range(int(distance)):\n",
    "    arm.set_tool_position(forward, 0, 0, 0, 0, -a)\n",
    "    arm.set_tool_position(forward, 0, 0, 0, 0,  a)\n",
    "# df = ft_sampler.collect_sample(distance / 10 * 15)\n",
    "experiment.new_trial(parameters, duration=distance * 1.5)\n",
    "arm.set_position(x, y, z, roll=180, pitch=burial_angle, yaw=0)"
   ]
  }
 ],
 "metadata": {
  "kernelspec": {
   "display_name": ".venv",
   "language": "python",
   "name": "python3"
  },
  "language_info": {
   "codemirror_mode": {
    "name": "ipython",
    "version": 3
   },
   "file_extension": ".py",
   "mimetype": "text/x-python",
   "name": "python",
   "nbconvert_exporter": "python",
   "pygments_lexer": "ipython3",
   "version": "3.11.4"
  }
 },
 "nbformat": 4,
 "nbformat_minor": 2
}
