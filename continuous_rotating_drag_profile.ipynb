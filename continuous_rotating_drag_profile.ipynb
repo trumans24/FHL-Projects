{
 "cells": [
  {
   "cell_type": "markdown",
   "metadata": {},
   "source": [
    "# Rotating Drag Profile\n",
    "This notebook is intended to connect with the xArm 7 and Bota Force/Torque Sensor. THen it will rotate the arm in set increments and record the drag force for a given duration. The forces and positions will be recorded as csv files in the data folder."
   ]
  },
  {
   "cell_type": "code",
   "execution_count": 1,
   "metadata": {},
   "outputs": [
    {
     "name": "stdout",
     "output_type": "stream",
     "text": [
      "SDK_VERSION: 1.13.30\n"
     ]
    }
   ],
   "source": [
    "from samplers import DataSource, PosSampler, FTSampler, Experiment\n",
    "import threading\n",
    "import time\n",
    "from xarm.wrapper import XArmAPI\n",
    "\n",
    "import pandas as pd\n",
    "import plotly.express as px\n",
    "import plotly.graph_objects as go\n",
    "from motion import continuous_rotation\n"
   ]
  },
  {
   "cell_type": "markdown",
   "metadata": {},
   "source": [
    "Connect to the xArm and Bota force/torque sensor."
   ]
  },
  {
   "cell_type": "code",
   "execution_count": 2,
   "metadata": {},
   "outputs": [
    {
     "name": "stdout",
     "output_type": "stream",
     "text": [
      "ROBOT_IP: 192.168.1.217, VERSION: v2.3.0, PROTOCOL: V1, DETAIL: 7,7,XS1304,AC1303,v2.3.0, TYPE1300: [1, 1]\n",
      "change protocol identifier to 3\n"
     ]
    }
   ],
   "source": [
    "arm = XArmAPI('192.168.1.217')\n",
    "arm.connect()\n",
    "\n",
    "arm_sampler = PosSampler('arm', arm)\n",
    "ft_sampler = FTSampler('FT', 'COM6')"
   ]
  },
  {
   "cell_type": "markdown",
   "metadata": {},
   "source": [
    "Create and experiment that will take care of sampling from the sensors and saving the data."
   ]
  },
  {
   "cell_type": "code",
   "execution_count": 3,
   "metadata": {},
   "outputs": [
    {
     "name": "stdout",
     "output_type": "stream",
     "text": [
      "Opened serial port COM6\n",
      "Trying to setup the sensor.\n",
      "Timestep: 0.0011132812500000001\n",
      "Frame synced\n",
      "Collecting...\n",
      "CRC mismatch received\n",
      "Frame synced\n",
      "CRC mismatch received\n",
      "Frame synced\n",
      "CRC mismatch received\n",
      "Frame synced\n",
      "CRC mismatch received\n",
      "Frame synced\n",
      "CRC mismatch received\n",
      "Frame synced\n",
      "Collected for 10.000902891159058 seconds.\n"
     ]
    },
    {
     "data": {
      "text/plain": [
       "True"
      ]
     },
     "execution_count": 3,
     "metadata": {},
     "output_type": "execute_result"
    },
    {
     "name": "stdout",
     "output_type": "stream",
     "text": [
      "CRC mismatch received\n",
      "Frame synced\n",
      "CRC mismatch received\n",
      "Frame synced\n",
      "CRC mismatch received\n",
      "Frame synced\n"
     ]
    }
   ],
   "source": [
    "experiment = Experiment([arm_sampler, ft_sampler])\n",
    "experiment.connect_sensors()"
   ]
  },
  {
   "cell_type": "markdown",
   "metadata": {},
   "source": [
    "### Run an Experimental Trial\n",
    "Change the values of the parameters to match the trial being conducted. The arm will move and the files will be named according to the values given."
   ]
  },
  {
   "cell_type": "code",
   "execution_count": null,
   "metadata": {},
   "outputs": [],
   "source": [
    "ft_sampler.zero()"
   ]
  },
  {
   "cell_type": "code",
   "execution_count": 4,
   "metadata": {},
   "outputs": [
    {
     "name": "stderr",
     "output_type": "stream",
     "text": [
      "Exception in thread Thread-12 (continuous_rotation):\n",
      "Traceback (most recent call last):\n",
      "  File \"C:\\Users\\truma\\AppData\\Local\\Programs\\Python\\Python311\\Lib\\threading.py\", line 1038, in _bootstrap_inner\n",
      "    self.run()\n",
      "  File \"c:\\Users\\truma\\Projects\\FHL-Projects\\.venv\\Lib\\site-packages\\ipykernel\\ipkernel.py\", line 766, in run_closure\n",
      "    _threading_Thread_run(self)\n",
      "  File \"C:\\Users\\truma\\AppData\\Local\\Programs\\Python\\Python311\\Lib\\threading.py\", line 975, in run\n",
      "    self._target(*self._args, **self._kwargs)\n",
      "  File \"c:\\Users\\truma\\Projects\\FHL-Projects\\motion.py\", line 93, in continuous_rotation\n",
      "    while time.perf_counter()-t0 < duration:\n",
      "                                   ^^^^^^^^\n",
      "NameError: name 'duration' is not defined\n"
     ]
    },
    {
     "name": "stdout",
     "output_type": "stream",
     "text": [
      "[set_state], xArm is ready to move\n"
     ]
    }
   ],
   "source": [
    "# These values will control the experiment and be used to name the saveed data.\n",
    "parameters = {\n",
    "    'model': 'random-model',\n",
    "    'angle': None,\n",
    "    'flume-speed': None,\n",
    "    'frequency': 0.1,\n",
    "}\n",
    "\n",
    "# sleep_duration should be long enough to allow the system to reach steady state before any data is recorded and duration is ho long you would like to record data for. Both times are in seconds.\n",
    "sleep_duration = 10\n",
    "duration = (1 / parameters['frequency']) + 10\n",
    "\n",
    "\n",
    "motion_thread = threading.Thread(target=continuous_rotation, args=(arm, parameters['frequency']))\n",
    "motion_thread.start()\n",
    "experiment.new_trial(parameters, duration=duration)\n",
    "motion_thread.join()"
   ]
  },
  {
   "cell_type": "code",
   "execution_count": null,
   "metadata": {},
   "outputs": [],
   "source": [
    "from util import rotate_forces\n",
    "from scipy.signal import lfilter, lfilter_zi\n",
    "import numpy as np\n",
    "\n",
    "df = rotate_forces('data/random-model_0_15.75_FT/FT.csv', 'data/random-model_0_15.75_arm/arm.csv')\n",
    "window_size = 500\n",
    "b = (1 / window_size) * np.ones(window_size)\n",
    "a = 1\n",
    "x = lfilter(b, a, df['Fx'])"
   ]
  },
  {
   "cell_type": "code",
   "execution_count": null,
   "metadata": {},
   "outputs": [],
   "source": [
    "steps = continuous_rotation(arm, 0.1)"
   ]
  }
 ],
 "metadata": {
  "kernelspec": {
   "display_name": ".venv",
   "language": "python",
   "name": "python3"
  },
  "language_info": {
   "codemirror_mode": {
    "name": "ipython",
    "version": 3
   },
   "file_extension": ".py",
   "mimetype": "text/x-python",
   "name": "python",
   "nbconvert_exporter": "python",
   "pygments_lexer": "ipython3",
   "version": "3.11.4"
  }
 },
 "nbformat": 4,
 "nbformat_minor": 2
}
