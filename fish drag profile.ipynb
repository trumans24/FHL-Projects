{
 "cells": [
  {
   "cell_type": "markdown",
   "metadata": {},
   "source": [
    "# Rotating Drag Profile\n",
    "This notebook is intended to connect with the xArm 7 and Bota Force/Torque Sensor. THen it will rotate the arm in set increments and record the drag force for a given duration. The forces and positions will be recorded as csv files in the data folder."
   ]
  },
  {
   "cell_type": "code",
   "execution_count": 1,
   "metadata": {},
   "outputs": [
    {
     "name": "stdout",
     "output_type": "stream",
     "text": [
      "SDK_VERSION: 1.13.30\n"
     ]
    }
   ],
   "source": [
    "import os\n",
    "from samplers import DataSource, PosSampler, FTSampler, Experiment\n",
    "import threading\n",
    "import time\n",
    "\n",
    "from xarm.wrapper import XArmAPI\n",
    "from util import rotate_forces\n",
    "from scipy.signal import lfilter, lfilter_zi\n",
    "import numpy as np\n",
    "\n",
    "import pandas as pd\n",
    "import plotly.express as px\n",
    "import plotly.graph_objects as go\n",
    "\n",
    "from util import rotate_forces\n",
    "from samplers import PosSampler, FTSampler, Experiment\n",
    "from xarm.wrapper import XArmAPI\n",
    "from scipy.signal import lfilter, lfilter_zi\n",
    "from motion import fish_motion"
   ]
  },
  {
   "cell_type": "markdown",
   "metadata": {},
   "source": [
    "Connect to the xArm and Bota force/torque sensor."
   ]
  },
  {
   "cell_type": "code",
   "execution_count": 2,
   "metadata": {},
   "outputs": [
    {
     "name": "stdout",
     "output_type": "stream",
     "text": [
      "ROBOT_IP: 192.168.1.217, VERSION: v2.3.0, PROTOCOL: V1, DETAIL: 7,7,XS1304,AC1303,v2.3.0, TYPE1300: [1, 1]\n",
      "change protocol identifier to 3\n"
     ]
    }
   ],
   "source": [
    "arm = XArmAPI('192.168.1.217')\n",
    "arm.connect()\n",
    "\n",
    "arm_sampler = PosSampler('arm', arm)\n",
    "ft_sampler = FTSampler('FT', 'COM3')"
   ]
  },
  {
   "cell_type": "markdown",
   "metadata": {},
   "source": [
    "Create and experiment that will take care of sampling from the sensors and saving the data."
   ]
  },
  {
   "cell_type": "code",
   "execution_count": 3,
   "metadata": {},
   "outputs": [
    {
     "name": "stdout",
     "output_type": "stream",
     "text": [
      "Opened serial port COM3\n",
      "Trying to setup the sensor.\n",
      "Timestep: 0.0011132812500000001\n",
      "Frame synced\n",
      "Collecting...\n",
      "CRC mismatch received\n",
      "Frame synced\n",
      "CRC mismatch received\n",
      "Frame synced\n",
      "Collected for 10.001240491867065 seconds.\n"
     ]
    },
    {
     "data": {
      "text/plain": [
       "True"
      ]
     },
     "execution_count": 3,
     "metadata": {},
     "output_type": "execute_result"
    }
   ],
   "source": [
    "experiment = Experiment([arm_sampler, ft_sampler])\n",
    "experiment.connect_sensors()"
   ]
  },
  {
   "cell_type": "markdown",
   "metadata": {},
   "source": [
    "## Run an Experimental Trial\n",
    "Change the values of the parameters to match the trial being conducted. The arm will move and the files will be named according to the values given."
   ]
  },
  {
   "cell_type": "code",
   "execution_count": 4,
   "metadata": {},
   "outputs": [
    {
     "data": {
      "text/plain": [
       "0"
      ]
     },
     "execution_count": 4,
     "metadata": {},
     "output_type": "execute_result"
    }
   ],
   "source": [
    "arm.get_state()\n",
    "arm.set_state(0)\n"
   ]
  },
  {
   "cell_type": "markdown",
   "metadata": {},
   "source": [
    "### Move the Arm to the correct position for recording data"
   ]
  },
  {
   "cell_type": "code",
   "execution_count": 521,
   "metadata": {},
   "outputs": [
    {
     "data": {
      "text/plain": [
       "0"
      ]
     },
     "execution_count": 521,
     "metadata": {},
     "output_type": "execute_result"
    },
    {
     "name": "stdout",
     "output_type": "stream",
     "text": [
      "[SDK][ERROR][2024-08-12 05:50:46][base.py:247] - - [report-socket] recv error: [WinError 10054] An existing connection was forcibly closed by the remote host\n",
      "[SDK][ERROR][2024-08-12 05:50:46][base.py:293] - - [main-socket] recv error: [WinError 10054] An existing connection was forcibly closed by the remote host\n"
     ]
    },
    {
     "name": "stderr",
     "output_type": "stream",
     "text": [
      "Exception in thread Thread-246 (_processdata_thread):\n",
      "Traceback (most recent call last):\n",
      "  File \"c:\\Users\\donatell\\AppData\\Local\\Programs\\Python\\Python312\\Lib\\threading.py\", line 1052, in _bootstrap_inner\n",
      "    self.run()\n",
      "  File \"c:\\Users\\donatell\\AppData\\Local\\Programs\\Python\\Python312\\Lib\\threading.py\", line 989, in run\n",
      "    self._target(*self._args, **self._kwargs)\n",
      "  File \"c:\\Users\\donatell\\OneDrive - Chapman University\\Teaching\\CPSC230_Spring2024\\Projects\\Project Part 3\\FHL-Projects\\samplers.py\", line 266, in _processdata_thread\n",
      "    crc16_ccitt_frame = self._ser.read(2)\n",
      "                        ^^^^^^^^^^^^^^^^^\n",
      "  File \"c:\\Users\\donatell\\AppData\\Local\\Programs\\Python\\Python312\\Lib\\site-packages\\serial\\serialwin32.py\", line 275, in read\n",
      "    raise SerialException(\"ClearCommError failed ({!r})\".format(ctypes.WinError()))\n",
      "serial.serialutil.SerialException: ClearCommError failed (PermissionError(13, 'Access is denied.', None, 5))\n"
     ]
    },
    {
     "name": "stdout",
     "output_type": "stream",
     "text": [
      "[SDK][ERROR][2024-08-12 05:50:47][decorator.py:39] - - xArm is not connected\n"
     ]
    },
    {
     "name": "stderr",
     "output_type": "stream",
     "text": [
      "Exception in thread Thread-245 (_processdata_thread):\n",
      "Traceback (most recent call last):\n",
      "  File \"c:\\Users\\donatell\\AppData\\Local\\Programs\\Python\\Python312\\Lib\\threading.py\", line 1052, in _bootstrap_inner\n",
      "    self.run()\n",
      "  File \"c:\\Users\\donatell\\AppData\\Local\\Programs\\Python\\Python312\\Lib\\threading.py\", line 989, in run\n",
      "    self._target(*self._args, **self._kwargs)\n",
      "  File \"c:\\Users\\donatell\\OneDrive - Chapman University\\Teaching\\CPSC230_Spring2024\\Projects\\Project Part 3\\FHL-Projects\\samplers.py\", line 63, in _processdata_thread\n",
      "    state, (x, y, z, theta_x, theta_y, theta_z) = self.arm.get_position()\n",
      "           ^^^^^^^^^^^^^^^^^^^^^^^^^^^^^^^^^^^^\n",
      "ValueError: too many values to unpack (expected 6)\n"
     ]
    }
   ],
   "source": [
    "#_, angles = arm.get_servo_angle()\n",
    "arm.set_servo_angle(angle=angles)"
   ]
  },
  {
   "cell_type": "markdown",
   "metadata": {},
   "source": [
    "### Zero the sensor before turning on the flume"
   ]
  },
  {
   "cell_type": "code",
   "execution_count": 5,
   "metadata": {},
   "outputs": [
    {
     "name": "stdout",
     "output_type": "stream",
     "text": [
      "Collecting...\n",
      "Collected for 10.00032353401184 seconds.\n"
     ]
    }
   ],
   "source": [
    "ft_sampler.zero()"
   ]
  },
  {
   "cell_type": "code",
   "execution_count": 8,
   "metadata": {},
   "outputs": [
    {
     "name": "stdout",
     "output_type": "stream",
     "text": [
      "<xarm.wrapper.xarm_api.XArmAPI object at 0x000001F81BB86990> 5 1 5 1 0 20\n",
      "Starting recording...\n",
      "data/test_5_1_5_1_0_0_arm/arm.csv already exists. Check input parameters.\n",
      "data/test_5_1_5_1_0_0_arm/arm (1).csv already exists. Check input parameters.\n",
      "data/test_5_1_5_1_0_0_FT/FT.csv already exists. Check input parameters.\n",
      "data/test_5_1_5_1_0_0_FT/FT (1).csv already exists. Check input parameters.\n",
      "Finished recording...\n"
     ]
    },
    {
     "ename": "FileExistsError",
     "evalue": "[WinError 183] Cannot create a file when that file already exists: 'data/test_5_1_5_1_0_0_rotated'",
     "output_type": "error",
     "traceback": [
      "\u001b[1;31m---------------------------------------------------------------------------\u001b[0m",
      "\u001b[1;31mFileExistsError\u001b[0m                           Traceback (most recent call last)",
      "Cell \u001b[1;32mIn[8], line 58\u001b[0m\n\u001b[0;32m     56\u001b[0m df[\u001b[38;5;124m'\u001b[39m\u001b[38;5;124mFiltered y\u001b[39m\u001b[38;5;124m'\u001b[39m] \u001b[38;5;241m=\u001b[39m y\n\u001b[0;32m     57\u001b[0m df[\u001b[38;5;124m'\u001b[39m\u001b[38;5;124mFiltered z\u001b[39m\u001b[38;5;124m'\u001b[39m] \u001b[38;5;241m=\u001b[39m z\n\u001b[1;32m---> 58\u001b[0m \u001b[43mos\u001b[49m\u001b[38;5;241;43m.\u001b[39;49m\u001b[43mmkdir\u001b[49m\u001b[43m(\u001b[49m\u001b[43mexperiment\u001b[49m\u001b[38;5;241;43m.\u001b[39;49m\u001b[43mget_dir_from_parameters\u001b[49m\u001b[43m(\u001b[49m\u001b[43m)\u001b[49m\u001b[38;5;241;43m+\u001b[39;49m\u001b[38;5;124;43m'\u001b[39;49m\u001b[38;5;124;43m_rotated\u001b[39;49m\u001b[38;5;124;43m'\u001b[39;49m\u001b[43m)\u001b[49m\n\u001b[0;32m     59\u001b[0m df\u001b[38;5;241m.\u001b[39mto_csv(experiment\u001b[38;5;241m.\u001b[39mget_dir_from_parameters()\u001b[38;5;241m+\u001b[39m\u001b[38;5;124m'\u001b[39m\u001b[38;5;124m_rotated/force.csv\u001b[39m\u001b[38;5;124m'\u001b[39m, index\u001b[38;5;241m=\u001b[39m\u001b[38;5;28;01mFalse\u001b[39;00m)\n\u001b[0;32m     60\u001b[0m motion_thread\u001b[38;5;241m.\u001b[39mjoin()\n",
      "\u001b[1;31mFileExistsError\u001b[0m: [WinError 183] Cannot create a file when that file already exists: 'data/test_5_1_5_1_0_0_rotated'"
     ]
    },
    {
     "name": "stdout",
     "output_type": "stream",
     "text": [
      "CRC mismatch received\n",
      "Frame synced\n"
     ]
    }
   ],
   "source": [
    "# These values will control the experiment and be used to name the saveed data.\n",
    "parameters = {\n",
    "    'model': \"test\",\n",
    "    'amplitude': 5,\n",
    "    'frequency': None,\n",
    "    'yaw_amplitude': 5,\n",
    "    'yaw_frequency': None,\n",
    "    'phase_shift': 0,\n",
    "    'flume-speed': 0,\n",
    "   \n",
    "    \n",
    "}\n",
    "# sleep_duration should be long enough to allow the system to reach steady state before any data is recorded and duration is ho long you would like to record data for. Both times are in seconds.\n",
    "# sleep_duration = 10\n",
    "# duration = 4\n",
    "amplitude=parameters['amplitude']\n",
    "yaw_amplitude=parameters['yaw_amplitude']\n",
    "phase_shift=parameters['phase_shift']\n",
    "\n",
    "arm.set_state(0)\n",
    "for frequency in [0.5,1,1.5,2,2.5,3]:\n",
    "    duration=int (round(10/frequency))*2\n",
    "    yaw_frequency=frequency\n",
    "    motion_thread=threading.Thread(target=fish_motion,args=(arm,amplitude,frequency,yaw_amplitude,yaw_frequency,phase_shift,duration))\n",
    "    motion_thread.start()\n",
    "    # The arm will move to the given location\n",
    "    parameters['frequency'] = frequency\n",
    "    parameters['yaw_frequency'] = yaw_frequency\n",
    "    \n",
    "\n",
    "    # Sleep while the system reaches steady state\n",
    "    time.sleep(duration//4)\n",
    "\n",
    "    # Record Data\n",
    "    print('Starting recording...')\n",
    "    experiment.new_trial(parameters, duration=duration//2)\n",
    "    print('Finished recording...')\n",
    "    time.sleep(0.1)\n",
    "    \n",
    "\n",
    "    \n",
    "    # window_size = 450\n",
    "    # b = 1 / window_size * np.ones(window_size)\n",
    "    # a = 1\n",
    "    # zi = lfilter_zi(b, a)\n",
    "    \n",
    "    # force_file = position_file = experiment.get_dir_from_parameters()\n",
    "    # force_file += '_FT/FT.csv'\n",
    "    # position_file += '_arm/arm.csv'\n",
    "    # df = rotate_forces(force_file, position_file)\n",
    "    # x, _ = lfilter(b, a, df['Fx'], zi=zi*df['Fx'].mean())\n",
    "    # y, _ = lfilter(b, a, df['Fy'], zi=zi*df['Fy'].mean())\n",
    "    # z, _ = lfilter(b, a, df['Fz'], zi=zi*df['Fz'].mean())\n",
    "    # df['Filtered x'] = x\n",
    "    # df['Filtered y'] = y\n",
    "    # df['Filtered z'] = z\n",
    "    # os.mkdir(experiment.get_dir_from_parameters()+'_rotated')\n",
    "    # df.to_csv(experiment.get_dir_from_parameters()+'_rotated/force.csv', index=False)\n",
    "    motion_thread.join()\n",
    "    \n"
   ]
  }
 ],
 "metadata": {
  "kernelspec": {
   "display_name": ".venv",
   "language": "python",
   "name": "python3"
  },
  "language_info": {
   "codemirror_mode": {
    "name": "ipython",
    "version": 3
   },
   "file_extension": ".py",
   "mimetype": "text/x-python",
   "name": "python",
   "nbconvert_exporter": "python",
   "pygments_lexer": "ipython3",
   "version": "3.12.0"
  }
 },
 "nbformat": 4,
 "nbformat_minor": 2
}
