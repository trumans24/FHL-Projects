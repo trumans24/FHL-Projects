{
 "cells": [
  {
   "cell_type": "code",
   "execution_count": 1,
   "metadata": {},
   "outputs": [
    {
     "name": "stdout",
     "output_type": "stream",
     "text": [
      "SDK_VERSION: 1.13.30\n"
     ]
    }
   ],
   "source": [
    "import time\n",
    "import numpy as np\n",
    "from xarm.wrapper import XArmAPI"
   ]
  },
  {
   "cell_type": "code",
   "execution_count": 2,
   "metadata": {},
   "outputs": [
    {
     "name": "stdout",
     "output_type": "stream",
     "text": [
      "ROBOT_IP: 192.168.1.217, VERSION: v2.3.0, PROTOCOL: V1, DETAIL: 7,7,XS1304,AC1303,v2.3.0, TYPE1300: [1, 1]\n",
      "change protocol identifier to 3\n"
     ]
    }
   ],
   "source": [
    "\n",
    "arm = XArmAPI('192.168.1.217')\n",
    "arm.connect()\n"
   ]
  },
  {
   "cell_type": "code",
   "execution_count": 6,
   "metadata": {},
   "outputs": [],
   "source": [
    "\n",
    "def next_cmd(t, path_function, time_step=0.01):\n",
    "    new_z = path_function(t+time_step)\n",
    "    return new_z\n",
    "\n",
    "\n",
    "def fish_motion(arm:XArmAPI, amplitude, frequency, yaw_amplitude, yaw_frequency, phase_shift, duration):\n",
    "    arm.set_mode(1)\n",
    "    arm.set_state(0)\n",
    "    time.sleep(0.1)\n",
    "    _, (start_x, start_y, start_z, start_roll, start_pitch, start_yaw) = arm.get_position()\n",
    "    _, (current_x, current_y, current_z, current_roll, current_pitch, current_yaw) = arm.get_position()\n",
    "    path = lambda t: amplitude * np.sin(2 * np.pi * frequency * t)\n",
    "    yaw = lambda t: yaw_amplitude * np.sin(2 * np.pi * yaw_frequency * t + phase_shift)\n",
    "    steps = []\n",
    "    time_step = 0\n",
    "    t0 = t = time.perf_counter()\n",
    "    while time.perf_counter()-t0 < duration:\n",
    "        t = time.perf_counter()-t0\n",
    "        i = next_cmd(t, path)\n",
    "        j = next_cmd(t, yaw)\n",
    "        arm.set_servo_cartesian([start_x, start_y+i, start_z, start_roll, start_pitch, start_yaw+j])\n",
    "        steps.append([t, i])\n",
    "\n",
    "    _, (current_x, current_y, current_z, current_roll, current_pitch, current_yaw) = arm.get_position()\n",
    "    while abs(current_y - start_y) > 0.1:\n",
    "        _, (current_x, current_y, current_z, current_roll, current_pitch, current_yaw) = arm.get_position()\n",
    "        t = time.perf_counter()-t0\n",
    "        i = next_cmd(t, path)\n",
    "        j = next_cmd(t, yaw)\n",
    "        arm.set_servo_cartesian([start_x, start_y+i, start_z, start_roll, start_pitch, start_yaw+j])\n",
    "        steps.append([t, i])\n",
    "    _, (current_x, current_y, current_z, current_roll, current_pitch, current_yaw) = arm.get_position()\n",
    "    \n",
    "    arm.set_servo_cartesian([start_x, start_y, start_z, start_roll, start_pitch, start_yaw])\n",
    "    \n",
    "    return steps\n",
    "\n"
   ]
  },
  {
   "cell_type": "code",
   "execution_count": 17,
   "metadata": {},
   "outputs": [],
   "source": [
    "\n",
    "amplitude=5\n",
    "frequency=1\n",
    "duration = 5\n",
    "\n",
    "yaw_amplitude=5\n",
    "yaw_frequency=frequency\n",
    "phase_shift = 0\n",
    "\n",
    "steps = fish_motion(arm, amplitude, frequency, yaw_amplitude, yaw_frequency, phase_shift, duration)\n"
   ]
  },
  {
   "cell_type": "code",
   "execution_count": 12,
   "metadata": {},
   "outputs": [
    {
     "name": "stdout",
     "output_type": "stream",
     "text": [
      "[set_state], xArm is ready to move\n"
     ]
    },
    {
     "data": {
      "text/plain": [
       "(0, 2)"
      ]
     },
     "execution_count": 12,
     "metadata": {},
     "output_type": "execute_result"
    }
   ],
   "source": [
    "arm.set_state(0)\n",
    "arm.get_state()\n"
   ]
  },
  {
   "cell_type": "code",
   "execution_count": null,
   "metadata": {},
   "outputs": [],
   "source": [
    "\n",
    "arm.disconnect()"
   ]
  }
 ],
 "metadata": {
  "kernelspec": {
   "display_name": ".venv",
   "language": "python",
   "name": "python3"
  },
  "language_info": {
   "codemirror_mode": {
    "name": "ipython",
    "version": 3
   },
   "file_extension": ".py",
   "mimetype": "text/x-python",
   "name": "python",
   "nbconvert_exporter": "python",
   "pygments_lexer": "ipython3",
   "version": "3.11.4"
  }
 },
 "nbformat": 4,
 "nbformat_minor": 2
}
