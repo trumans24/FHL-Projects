{
 "cells": [
  {
   "cell_type": "markdown",
   "metadata": {},
   "source": [
    "# Rotating Drag Profile\n",
    "This notebook is intended to connect with the xArm 7 and Bota Force/Torque Sensor. THen it will rotate the arm in set increments and record the drag force for a given duration. The forces and positions will be recorded as csv files in the data folder."
   ]
  },
  {
   "cell_type": "code",
   "execution_count": 1,
   "metadata": {},
   "outputs": [
    {
     "name": "stdout",
     "output_type": "stream",
     "text": [
      "SDK_VERSION: 1.13.30\n"
     ]
    }
   ],
   "source": [
    "from samplers import DataSource, PosSampler, FTSampler, Experiment\n",
    "import threading\n",
    "import time\n",
    "from xarm.wrapper import XArmAPI"
   ]
  },
  {
   "cell_type": "markdown",
   "metadata": {},
   "source": [
    "Simple function to rotate the arm to a given orientation."
   ]
  },
  {
   "cell_type": "code",
   "execution_count": null,
   "metadata": {},
   "outputs": [],
   "source": [
    "def rotate_arm(arm: XArmAPI, angle, offset=0):\n",
    "    arm.set_position(yaw=angle)"
   ]
  },
  {
   "cell_type": "markdown",
   "metadata": {},
   "source": [
    "Connect to the xArm and Bota force/torque sensor."
   ]
  },
  {
   "cell_type": "code",
   "execution_count": null,
   "metadata": {},
   "outputs": [],
   "source": [
    "arm = XArmAPI('192.168.1.217')\n",
    "arm.connect()\n",
    "\n",
    "arm_sampler = PosSampler('arm', arm)\n",
    "ft_sampler = FTSampler('FT', 'COM6')"
   ]
  },
  {
   "cell_type": "markdown",
   "metadata": {},
   "source": [
    "Create and experiment that will take care of sampling from the sensors and saving the data."
   ]
  },
  {
   "cell_type": "code",
   "execution_count": null,
   "metadata": {},
   "outputs": [],
   "source": [
    "experiment = Experiment([arm_sampler, ft_sampler])\n",
    "experiment.connect_sensors()"
   ]
  },
  {
   "cell_type": "markdown",
   "metadata": {},
   "source": [
    "### Run an Experimental Trial\n",
    "Change the values of the parameters to match the trial being conducted. The arm will move and the files will be named according to the values given."
   ]
  },
  {
   "cell_type": "code",
   "execution_count": null,
   "metadata": {},
   "outputs": [],
   "source": [
    "# These values will control the experiment and be used to name the saveed data.\n",
    "parameters = {\n",
    "    'model': None,\n",
    "    'angle': None,\n",
    "    'flume-speed': None,\n",
    "}\n",
    "\n",
    "# sleep_duration should be long enough to allow the system to reach steady state before any data is recorded and duration is ho long you would like to record data for. Both times are in seconds.\n",
    "sleep_duration = 10\n",
    "duration = 10\n",
    "\n",
    "# The arm will move to the given location\n",
    "arm.set_position(yaw=parameters['angle'])\n",
    "\n",
    "# Sleep while the system reaches steady state\n",
    "time.sleep(sleep_duration)\n",
    "\n",
    "# Record Data\n",
    "print('Starting recording...')\n",
    "experiment.new_trial(parameters, duration=duration)\n",
    "print('Finished recording...')"
   ]
  }
 ],
 "metadata": {
  "kernelspec": {
   "display_name": ".venv",
   "language": "python",
   "name": "python3"
  },
  "language_info": {
   "codemirror_mode": {
    "name": "ipython",
    "version": 3
   },
   "file_extension": ".py",
   "mimetype": "text/x-python",
   "name": "python",
   "nbconvert_exporter": "python",
   "pygments_lexer": "ipython3",
   "version": "3.11.4"
  }
 },
 "nbformat": 4,
 "nbformat_minor": 2
}
